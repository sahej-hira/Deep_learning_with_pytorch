{
 "cells": [
  {
   "cell_type": "code",
   "execution_count": 9,
   "id": "180012ee",
   "metadata": {},
   "outputs": [],
   "source": [
    "## Using the accuracy metric calculated in the previous activity, in this activity, we will \n",
    "## perform error analysis, which will help us determine the actions to be performed over \n",
    "## the model in the upcoming activity:"
   ]
  },
  {
   "cell_type": "code",
   "execution_count": 4,
   "id": "4a7d5229",
   "metadata": {},
   "outputs": [],
   "source": [
    "## Assuming a Bayes error of 0.15, perform error analysis and diagnose the model:\n",
    "\n",
    "BE = 0.15  # Bayes error\n",
    "TSE = 1 - 0.715   # Training set error = 0.285\n",
    "VSE = 1 - 0.706   # Validation set error = 0.294 \n",
    "\n",
    "## The values used as the accuracy of both sets (0.715 and 0.706) are the ones \n",
    "## obtained during the last iteration of the previous activity."
   ]
  },
  {
   "cell_type": "code",
   "execution_count": 7,
   "id": "db4e9908",
   "metadata": {},
   "outputs": [],
   "source": [
    "Bias = TSE - BE         # = 0.135\n",
    "Variance = VSE - TSE    # = 0.009"
   ]
  },
  {
   "cell_type": "code",
   "execution_count": 8,
   "id": "54c9e810",
   "metadata": {},
   "outputs": [],
   "source": [
    "## According to this, the model is suffering from high bias, meaning that the model is \n",
    "## underfitted."
   ]
  },
  {
   "cell_type": "code",
   "execution_count": 10,
   "id": "87660522",
   "metadata": {},
   "outputs": [],
   "source": [
    "## To improve the model's performance, two books of actions that can be followed \n",
    "## are incrementing the number of epochs and increasing the number of hidden \n",
    "## layers and/or the number of units.\n",
    "##  In accordance with this, a set of tests can be performed in order to arrive at the \n",
    "## best result."
   ]
  },
  {
   "cell_type": "code",
   "execution_count": null,
   "id": "f2a3a012",
   "metadata": {},
   "outputs": [],
   "source": []
  }
 ],
 "metadata": {
  "kernelspec": {
   "display_name": "Python 3 (ipykernel)",
   "language": "python",
   "name": "python3"
  },
  "language_info": {
   "codemirror_mode": {
    "name": "ipython",
    "version": 3
   },
   "file_extension": ".py",
   "mimetype": "text/x-python",
   "name": "python",
   "nbconvert_exporter": "python",
   "pygments_lexer": "ipython3",
   "version": "3.11.3"
  }
 },
 "nbformat": 4,
 "nbformat_minor": 5
}
