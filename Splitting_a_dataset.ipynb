{
 "cells": [
  {
   "cell_type": "markdown",
   "id": "c0c56c8e",
   "metadata": {},
   "source": [
    "# Train-validation-test split"
   ]
  },
  {
   "cell_type": "code",
   "execution_count": 7,
   "id": "b465614d",
   "metadata": {},
   "outputs": [],
   "source": [
    "# larger datasets (hundreds of thousands and millions of instances) should have a split ratio of 98%/1%/1% for each set,\n",
    "# For a smaller dataset, the conventional split ratio is 60%/20%/20%"
   ]
  },
  {
   "cell_type": "code",
   "execution_count": 3,
   "id": "e0a9410f",
   "metadata": {
    "scrolled": true
   },
   "outputs": [
    {
     "name": "stdout",
     "output_type": "stream",
     "text": [
      "<bound method NDFrame.head of                       date  Appliances  lights         T1       RH_1  \\\n",
      "0      2016-01-11 17:00:00          60      30  19.890000  47.596667   \n",
      "1      2016-01-11 17:10:00          60      30  19.890000  46.693333   \n",
      "2      2016-01-11 17:20:00          50      30  19.890000  46.300000   \n",
      "3      2016-01-11 17:30:00          50      40  19.890000  46.066667   \n",
      "4      2016-01-11 17:40:00          60      40  19.890000  46.333333   \n",
      "...                    ...         ...     ...        ...        ...   \n",
      "19730  2016-05-27 17:20:00         100       0  25.566667  46.560000   \n",
      "19731  2016-05-27 17:30:00          90       0  25.500000  46.500000   \n",
      "19732  2016-05-27 17:40:00         270      10  25.500000  46.596667   \n",
      "19733  2016-05-27 17:50:00         420      10  25.500000  46.990000   \n",
      "19734  2016-05-27 18:00:00         430      10  25.500000  46.600000   \n",
      "\n",
      "              T2       RH_2         T3       RH_3         T4  ...         T9  \\\n",
      "0      19.200000  44.790000  19.790000  44.730000  19.000000  ...  17.033333   \n",
      "1      19.200000  44.722500  19.790000  44.790000  19.000000  ...  17.066667   \n",
      "2      19.200000  44.626667  19.790000  44.933333  18.926667  ...  17.000000   \n",
      "3      19.200000  44.590000  19.790000  45.000000  18.890000  ...  17.000000   \n",
      "4      19.200000  44.530000  19.790000  45.000000  18.890000  ...  17.000000   \n",
      "...          ...        ...        ...        ...        ...  ...        ...   \n",
      "19730  25.890000  42.025714  27.200000  41.163333  24.700000  ...  23.200000   \n",
      "19731  25.754000  42.080000  27.133333  41.223333  24.700000  ...  23.200000   \n",
      "19732  25.628571  42.768571  27.050000  41.690000  24.700000  ...  23.200000   \n",
      "19733  25.414000  43.036000  26.890000  41.290000  24.700000  ...  23.200000   \n",
      "19734  25.264286  42.971429  26.823333  41.156667  24.700000  ...  23.200000   \n",
      "\n",
      "          RH_9      T_out  Press_mm_hg     RH_out  Windspeed  Visibility  \\\n",
      "0      45.5300   6.600000        733.5  92.000000   7.000000   63.000000   \n",
      "1      45.5600   6.483333        733.6  92.000000   6.666667   59.166667   \n",
      "2      45.5000   6.366667        733.7  92.000000   6.333333   55.333333   \n",
      "3      45.4000   6.250000        733.8  92.000000   6.000000   51.500000   \n",
      "4      45.4000   6.133333        733.9  92.000000   5.666667   47.666667   \n",
      "...        ...        ...          ...        ...        ...         ...   \n",
      "19730  46.7900  22.733333        755.2  55.666667   3.333333   23.666667   \n",
      "19731  46.7900  22.600000        755.2  56.000000   3.500000   24.500000   \n",
      "19732  46.7900  22.466667        755.2  56.333333   3.666667   25.333333   \n",
      "19733  46.8175  22.333333        755.2  56.666667   3.833333   26.166667   \n",
      "19734  46.8450  22.200000        755.2  57.000000   4.000000   27.000000   \n",
      "\n",
      "       Tdewpoint        rv1        rv2  \n",
      "0       5.300000  13.275433  13.275433  \n",
      "1       5.200000  18.606195  18.606195  \n",
      "2       5.100000  28.642668  28.642668  \n",
      "3       5.000000  45.410389  45.410389  \n",
      "4       4.900000  10.084097  10.084097  \n",
      "...          ...        ...        ...  \n",
      "19730  13.333333  43.096812  43.096812  \n",
      "19731  13.300000  49.282940  49.282940  \n",
      "19732  13.266667  29.199117  29.199117  \n",
      "19733  13.233333   6.322784   6.322784  \n",
      "19734  13.200000  34.118851  34.118851  \n",
      "\n",
      "[19735 rows x 29 columns]>\n"
     ]
    }
   ],
   "source": [
    "# importing dataset\n",
    "import pandas as pd \n",
    "\n",
    "data = pd.read_csv(r'C:/Users/excel/Downloads/appliances+energy+prediction/energydata_complete.csv')\n",
    "print(data.head)"
   ]
  },
  {
   "cell_type": "markdown",
   "id": "9ac8972d",
   "metadata": {},
   "source": [
    "# using indexing\n"
   ]
  },
  {
   "cell_type": "code",
   "execution_count": 5,
   "id": "fe8c872b",
   "metadata": {},
   "outputs": [],
   "source": [
    "# spliting dataset\n",
    "X = data.iloc[:, 1:]\n",
    "Y = data.iloc[:, 0]"
   ]
  },
  {
   "cell_type": "code",
   "execution_count": 6,
   "id": "12fe949a",
   "metadata": {},
   "outputs": [
    {
     "data": {
      "text/plain": [
       "(19735, 28)"
      ]
     },
     "execution_count": 6,
     "metadata": {},
     "output_type": "execute_result"
    }
   ],
   "source": [
    "## Print the shape of the dataset in order to determine the split ration to be used.\n",
    "\n",
    "X.shape\n",
    "\n",
    "## The output from this operation should be (19735, 28). This means that it is \n",
    "## possible to use a split ratio of 60%/20%/20% for the training, validation, and \n",
    "## testing sets."
   ]
  },
  {
   "cell_type": "code",
   "execution_count": 8,
   "id": "c26aee58",
   "metadata": {},
   "outputs": [],
   "source": [
    "## Get the value to use as the bottom bound of the training and validation sets. This will be used to split the dataset using indexing:\n",
    "\n",
    "train_end = int(len(X) * 0.6) # This line calculates the index that marks the end of the training set.\n",
    "# 600 samples\n",
    "\n",
    "dev_end = int(len(X) * 0.8) # This line calculates the index that marks the end of the development (or validation) set.\n",
    "# 601 - 800 samples\n",
    "\n",
    "# the remaining 20% will be used for testing."
   ]
  },
  {
   "cell_type": "code",
   "execution_count": 10,
   "id": "1c392ea0",
   "metadata": {},
   "outputs": [],
   "source": [
    "## Shuffle the dataset:\n",
    "X_shuffle = X.sample(frac=1)\n",
    "Y_shuffle = Y.sample(frac=1)"
   ]
  },
  {
   "cell_type": "code",
   "execution_count": 12,
   "id": "7b704b3c",
   "metadata": {},
   "outputs": [],
   "source": [
    "## Use indexing to split the shuffled dataset into the three sets, for both the features and the target data:\n",
    "\n",
    "x_train = X_shuffle.iloc[:train_end,:]\n",
    "y_train = Y_shuffle.iloc[:train_end]\n",
    "x_dev = X_shuffle.iloc[train_end:dev_end,:]\n",
    "y_dev = Y_shuffle.iloc[train_end:dev_end]\n",
    "x_test = X_shuffle.iloc[dev_end:,:]\n",
    "y_test = Y_shuffle.iloc[dev_end:]"
   ]
  },
  {
   "cell_type": "code",
   "execution_count": 13,
   "id": "a080777a",
   "metadata": {},
   "outputs": [
    {
     "name": "stdout",
     "output_type": "stream",
     "text": [
      "(11841, 28) (11841,)\n",
      "(3947, 28) (3947,)\n",
      "(3947, 28) (3947,)\n"
     ]
    }
   ],
   "source": [
    "## Print the shapes of all three sets:\n",
    "\n",
    "print(x_train.shape, y_train.shape)\n",
    "print(x_dev.shape, y_dev.shape)\n",
    "print(x_test.shape, y_test.shape)"
   ]
  },
  {
   "cell_type": "markdown",
   "id": "e2506032",
   "metadata": {},
   "source": [
    "# using scikit-learn's train_test_split() function"
   ]
  },
  {
   "cell_type": "code",
   "execution_count": 15,
   "id": "18d62f50",
   "metadata": {},
   "outputs": [],
   "source": [
    "## Import the train_test_split() function from scikit-learn's model_selection module:\n",
    "\n",
    "from sklearn.model_selection import train_test_split"
   ]
  },
  {
   "cell_type": "code",
   "execution_count": 17,
   "id": "a25a4a9b",
   "metadata": {},
   "outputs": [],
   "source": [
    "## Split the shuffled dataset:\n",
    "\n",
    "# splitting the total dataset into 80% and 20%(testing set)\n",
    "x_new, x_test_2, y_new, y_test_2 = train_test_split(X_shuffle, Y_shuffle, \n",
    "test_size=0.2, random_state=0)\n",
    "\n",
    "dev_per = x_test_2.shape[0]/x_new.shape[0]\n",
    "\n",
    "# splitting the 80% of the total dataset into 80%(training set) and 20%(validation set)\n",
    "x_train_2, x_dev_2, y_train_2, y_dev_2 = train_test_split(x_new, y_new, \n",
    "test_size=dev_per, random_state=0)"
   ]
  },
  {
   "cell_type": "code",
   "execution_count": 18,
   "id": "8aaf1d2e",
   "metadata": {},
   "outputs": [
    {
     "name": "stdout",
     "output_type": "stream",
     "text": [
      "(11841, 28) (11841,)\n",
      "(3947, 28) (3947,)\n",
      "(3947, 28) (3947,)\n"
     ]
    }
   ],
   "source": [
    "## Print the shape of all three sets:\n",
    " \n",
    "print(x_train_2.shape, y_train_2.shape)\n",
    "print(x_dev_2.shape, y_dev_2.shape)\n",
    "print(x_test_2.shape, y_test_2.shape)"
   ]
  }
 ],
 "metadata": {
  "kernelspec": {
   "display_name": "Python 3 (ipykernel)",
   "language": "python",
   "name": "python3"
  },
  "language_info": {
   "codemirror_mode": {
    "name": "ipython",
    "version": 3
   },
   "file_extension": ".py",
   "mimetype": "text/x-python",
   "name": "python",
   "nbconvert_exporter": "python",
   "pygments_lexer": "ipython3",
   "version": "3.11.3"
  }
 },
 "nbformat": 4,
 "nbformat_minor": 5
}
