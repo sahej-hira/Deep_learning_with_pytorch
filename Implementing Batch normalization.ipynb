{
 "cells": [
  {
   "cell_type": "markdown",
   "id": "d527557b",
   "metadata": {},
   "source": [
    "# !pip install --upgrade pip"
   ]
  },
  {
   "cell_type": "code",
   "execution_count": null,
   "id": "ba808678",
   "metadata": {
    "scrolled": true
   },
   "outputs": [],
   "source": [
    "#pip install --upgrade torch torchvision\n"
   ]
  },
  {
   "cell_type": "code",
   "execution_count": 1,
   "id": "ae559b0c",
   "metadata": {},
   "outputs": [
    {
     "name": "stdout",
     "output_type": "stream",
     "text": [
      "Requirement already satisfied: torch in c:\\users\\excel\\anaconda3\\lib\\site-packages (2.4.0)\n",
      "Requirement already satisfied: torchvision in c:\\users\\excel\\anaconda3\\lib\\site-packages (0.19.0)\n",
      "Requirement already satisfied: filelock in c:\\users\\excel\\anaconda3\\lib\\site-packages (from torch) (3.9.0)\n",
      "Requirement already satisfied: typing-extensions>=4.8.0 in c:\\users\\excel\\anaconda3\\lib\\site-packages (from torch) (4.12.2)\n",
      "Requirement already satisfied: sympy in c:\\users\\excel\\anaconda3\\lib\\site-packages (from torch) (1.11.1)\n",
      "Requirement already satisfied: networkx in c:\\users\\excel\\anaconda3\\lib\\site-packages (from torch) (2.8.4)\n",
      "Requirement already satisfied: jinja2 in c:\\users\\excel\\anaconda3\\lib\\site-packages (from torch) (3.1.2)\n",
      "Requirement already satisfied: fsspec in c:\\users\\excel\\anaconda3\\lib\\site-packages (from torch) (2023.3.0)\n",
      "Requirement already satisfied: numpy<2 in c:\\users\\excel\\anaconda3\\lib\\site-packages (from torchvision) (1.24.3)\n",
      "Requirement already satisfied: pillow!=8.3.*,>=5.3.0 in c:\\users\\excel\\anaconda3\\lib\\site-packages (from torchvision) (9.4.0)\n",
      "Requirement already satisfied: MarkupSafe>=2.0 in c:\\users\\excel\\anaconda3\\lib\\site-packages (from jinja2->torch) (2.1.1)\n",
      "Requirement already satisfied: mpmath>=0.19 in c:\\users\\excel\\anaconda3\\lib\\site-packages (from sympy->torch) (1.2.1)\n"
     ]
    },
    {
     "name": "stderr",
     "output_type": "stream",
     "text": [
      "\n",
      "[notice] A new release of pip is available: 24.0 -> 24.2\n",
      "[notice] To update, run: python.exe -m pip install --upgrade pip\n"
     ]
    }
   ],
   "source": [
    "!pip install torch torchvision\n"
   ]
  },
  {
   "cell_type": "code",
   "execution_count": 2,
   "id": "d697282e",
   "metadata": {},
   "outputs": [],
   "source": [
    "# imports\n",
    "\n",
    "import numpy as np\n",
    "import torch\n",
    "from torch import nn, optim\n",
    "import torch.nn.functional as F\n",
    "from torchvision import datasets\n",
    "import torchvision.transforms as transforms\n",
    "from torch.utils.data.sampler import SubsetRandomSampler\n",
    "from sklearn.metrics import accuracy_score\n",
    "import matplotlib.pyplot as plt"
   ]
  },
  {
   "cell_type": "code",
   "execution_count": 3,
   "id": "3e1baa77",
   "metadata": {},
   "outputs": [],
   "source": [
    "# preprocessing instantiation:\n",
    "transform = {  # defined as a dictionary,\n",
    "\"train\": transforms.Compose([\n",
    "transforms.RandomHorizontalFlip(0.5), \n",
    "transforms.RandomGrayscale(0.1),\n",
    "transforms.ToTensor(),\n",
    "transforms.Normalize((0.5, 0.5, 0.5), (0.5, 0.5, 0.5))]),\n",
    "\"test\": transforms.Compose([\n",
    "transforms.ToTensor(),\n",
    "transforms.Normalize((0.5, 0.5, 0.5), (0.5, 0.5, 0.5))])}# normalise with mean and standard deviation\n",
    "#  scale the data to have a mean of 0 and standard deviation of 1. This can help the model train more effectively"
   ]
  },
  {
   "cell_type": "code",
   "execution_count": 4,
   "id": "303497ad",
   "metadata": {},
   "outputs": [
    {
     "name": "stdout",
     "output_type": "stream",
     "text": [
      "Downloading https://www.cs.toronto.edu/~kriz/cifar-10-python.tar.gz to data\\cifar-10-python.tar.gz\n"
     ]
    },
    {
     "name": "stderr",
     "output_type": "stream",
     "text": [
      "100%|██████████| 170498071/170498071 [00:18<00:00, 9264621.45it/s] \n"
     ]
    },
    {
     "name": "stdout",
     "output_type": "stream",
     "text": [
      "Extracting data\\cifar-10-python.tar.gz to data\n",
      "Files already downloaded and verified\n"
     ]
    }
   ],
   "source": [
    "batch_size = 100      # number of samples that will be passed through the model at one time during training or testing\n",
    "train_data = datasets.CIFAR10('data', train=True,  \n",
    "download=True, transform=transform[\"train\"])\n",
    "test_data = datasets.CIFAR10('data', train=False,  \n",
    "download=True, transform=transform[\"test\"])\n",
    "\n",
    "# CIFAR-10:dataset used for image classification tasks,available through torchvision library."
   ]
  },
  {
   "cell_type": "code",
   "execution_count": 5,
   "id": "968abe00",
   "metadata": {},
   "outputs": [],
   "source": [
    "#idx = list(range(len(train_data)))\n",
    "#print(idx)"
   ]
  },
  {
   "cell_type": "code",
   "execution_count": 6,
   "id": "72ea246b",
   "metadata": {},
   "outputs": [],
   "source": [
    "## Using a validation size of 20%, define the training and validation sampler that will be used to divide the dataset into those 2 sets:\n",
    "dev_size = 0.2\n",
    "idx = list(range(len(train_data)))\n",
    "np.random.shuffle(idx)\n",
    "split_size = int(np.floor(dev_size * len(train_data)))\n",
    "train_idx, dev_idx = idx[split_size:], idx[:split_size]\n",
    "train_sampler = SubsetRandomSampler(train_idx)\n",
    "dev_sampler = SubsetRandomSampler(dev_idx)"
   ]
  },
  {
   "cell_type": "code",
   "execution_count": 7,
   "id": "3963486b",
   "metadata": {
    "scrolled": true
   },
   "outputs": [
    {
     "name": "stdout",
     "output_type": "stream",
     "text": [
      "10000\n"
     ]
    }
   ],
   "source": [
    "print(split_size)"
   ]
  },
  {
   "cell_type": "code",
   "execution_count": 8,
   "id": "11b78686",
   "metadata": {},
   "outputs": [],
   "source": [
    "## DataLoader() function to define the batches of each set of data to be used:\n",
    "\n",
    "train_loader = torch.utils.data.DataLoader(train_data,  \n",
    "batch_size=batch_size, sampler=train_sampler)\n",
    "dev_loader = torch.utils.data.DataLoader(train_data,  \n",
    "batch_size=batch_size, sampler=dev_sampler)\n",
    "test_loader = torch.utils.data.DataLoader(test_data,  \n",
    "batch_size=batch_size)"
   ]
  },
  {
   "cell_type": "code",
   "execution_count": 9,
   "id": "c27a462a",
   "metadata": {},
   "outputs": [],
   "source": [
    "class CNN(nn.Module):\n",
    "    def __init__(self):\n",
    "        super(CNN, self).__init__()\n",
    "        self.conv1 = nn.Conv2d(3, 10, 3, 1, 1) # convolutional layer 1\n",
    "        self.norm1 = nn.BatchNorm2d(10)# on convolutional networks *BatchNorm2d* is used. \n",
    "        self.conv2 = nn.Conv2d(10, 20, 3, 1, 1) # convolutional layer 2\n",
    "        self.norm1 = nn.BatchNorm2d(20)# on convolutional networks BatchNorm2d is used. \n",
    "        self.conv3 = nn.Conv2d(20, 40, 3, 1, 1) # convolutional layer 3\n",
    "        self.norm1 = nn.BatchNorm2d(40)# on convolutional networks BatchNorm2d is used. \n",
    "        self.pool = nn.MaxPool2d(2, 2) # pooling layer (max pooling ot be specific)\n",
    "        self.linear1 = nn.Linear(40 * 4 * 4, 100) # first Fully connected layer (linear)\n",
    "        self.norm2 = nn.BatchNorm1d(100) # for fully connected layers *BatchNor1d* is used.\n",
    "        self.linear2 = nn.Linear(100, 10)\n",
    "        self.dropout = nn.Dropout(0.2)\n",
    "    def forward(self, x):\n",
    "        x = self.pool(F.relu(self.conv1(x)))\n",
    "        x = self.pool(F.relu(self.conv2(x)))\n",
    "        x = self.pool(F.relu(self.conv3(x)))\n",
    "        x = x.view(-1, 40 * 4 * 4)\n",
    "        x = self.dropout(x)\n",
    "        x = F.relu(self.linear1(x))\n",
    "        x = self.dropout(x)\n",
    "        x = F.log_softmax(self.linear2(x), dim=1)\n",
    "        return x"
   ]
  },
  {
   "cell_type": "code",
   "execution_count": 10,
   "id": "c7b4f634",
   "metadata": {},
   "outputs": [],
   "source": [
    "model = CNN()\n",
    "loss_function = nn.NLLLoss()\n",
    "optimizer = optim.Adam(model.parameters(), lr=0.001)\n",
    "epochs = 100"
   ]
  },
  {
   "cell_type": "code",
   "execution_count": 11,
   "id": "c8355b4b",
   "metadata": {},
   "outputs": [
    {
     "name": "stdout",
     "output_type": "stream",
     "text": [
      "Epoch: 1/100..  Training Loss: 1.761..  Validation Loss: 1.488..  Training Accuracy: 0.357..  Validation Accuracy: 0.465\n",
      "Epoch: 5/100..  Training Loss: 1.191..  Validation Loss: 1.090..  Training Accuracy: 0.576..  Validation Accuracy: 0.619\n",
      "Epoch: 10/100..  Training Loss: 1.011..  Validation Loss: 0.954..  Training Accuracy: 0.643..  Validation Accuracy: 0.663\n",
      "Epoch: 15/100..  Training Loss: 0.922..  Validation Loss: 0.865..  Training Accuracy: 0.674..  Validation Accuracy: 0.697\n",
      "Epoch: 20/100..  Training Loss: 0.852..  Validation Loss: 0.826..  Training Accuracy: 0.701..  Validation Accuracy: 0.712\n",
      "Epoch: 25/100..  Training Loss: 0.817..  Validation Loss: 0.782..  Training Accuracy: 0.711..  Validation Accuracy: 0.726\n",
      "Epoch: 30/100..  Training Loss: 0.781..  Validation Loss: 0.775..  Training Accuracy: 0.725..  Validation Accuracy: 0.729\n",
      "Epoch: 35/100..  Training Loss: 0.748..  Validation Loss: 0.744..  Training Accuracy: 0.736..  Validation Accuracy: 0.738\n",
      "Epoch: 40/100..  Training Loss: 0.729..  Validation Loss: 0.737..  Training Accuracy: 0.744..  Validation Accuracy: 0.744\n",
      "Epoch: 45/100..  Training Loss: 0.714..  Validation Loss: 0.732..  Training Accuracy: 0.746..  Validation Accuracy: 0.744\n",
      "Epoch: 50/100..  Training Loss: 0.696..  Validation Loss: 0.714..  Training Accuracy: 0.753..  Validation Accuracy: 0.746\n",
      "Epoch: 55/100..  Training Loss: 0.687..  Validation Loss: 0.728..  Training Accuracy: 0.756..  Validation Accuracy: 0.749\n",
      "Epoch: 60/100..  Training Loss: 0.675..  Validation Loss: 0.731..  Training Accuracy: 0.763..  Validation Accuracy: 0.747\n",
      "Epoch: 65/100..  Training Loss: 0.662..  Validation Loss: 0.702..  Training Accuracy: 0.764..  Validation Accuracy: 0.755\n",
      "Epoch: 70/100..  Training Loss: 0.658..  Validation Loss: 0.707..  Training Accuracy: 0.764..  Validation Accuracy: 0.753\n",
      "Epoch: 75/100..  Training Loss: 0.642..  Validation Loss: 0.708..  Training Accuracy: 0.770..  Validation Accuracy: 0.756\n",
      "Epoch: 80/100..  Training Loss: 0.639..  Validation Loss: 0.706..  Training Accuracy: 0.776..  Validation Accuracy: 0.756\n",
      "Epoch: 85/100..  Training Loss: 0.637..  Validation Loss: 0.696..  Training Accuracy: 0.773..  Validation Accuracy: 0.757\n",
      "Epoch: 90/100..  Training Loss: 0.625..  Validation Loss: 0.700..  Training Accuracy: 0.776..  Validation Accuracy: 0.755\n",
      "Epoch: 95/100..  Training Loss: 0.623..  Validation Loss: 0.705..  Training Accuracy: 0.775..  Validation Accuracy: 0.758\n",
      "Epoch: 100/100..  Training Loss: 0.617..  Validation Loss: 0.691..  Training Accuracy: 0.780..  Validation Accuracy: 0.764\n"
     ]
    }
   ],
   "source": [
    "train_losses, dev_losses, train_acc, dev_acc= [], [], [], []\n",
    "x_axis = []\n",
    "for e in range(1, epochs+1):\n",
    "    losses = 0\n",
    "    acc = 0\n",
    "    iterations = 0\n",
    "    model.train()  # enables training mode\n",
    "    for data, target in train_loader:\n",
    "        iterations += 1\n",
    "        pred = model(data)\n",
    "        loss = loss_function(pred, target)\n",
    "        optimizer.zero_grad()\n",
    "        loss.backward()\n",
    "        optimizer.step()\n",
    "        losses += loss.item()\n",
    "        p = torch.exp(pred)\n",
    "        top_p, top_class = p.topk(1, dim=1)\n",
    "        acc += accuracy_score(target, top_class)\n",
    "    dev_losss = 0\n",
    "    dev_accs = 0\n",
    "    iter_2 = 0\n",
    "    if e%5 == 0 or e == 1:\n",
    "        x_axis.append(e)\n",
    "        with torch.no_grad():\n",
    "            model.eval()  #evaluation mode, which disables certain layers like dropout that are only used during training.\n",
    "            for data_dev, target_dev in dev_loader:\n",
    "                iter_2 += 1\n",
    "                dev_pred = model(data_dev)\n",
    "                dev_loss = loss_function(dev_pred, target_dev)\n",
    "                dev_losss += dev_loss.item()\n",
    "                dev_p = torch.exp(dev_pred)\n",
    "                top_p, dev_top_class = dev_p.topk(1, dim=1)\n",
    "                dev_accs += accuracy_score(target_dev,  \n",
    "                dev_top_class)\n",
    "        train_losses.append(losses/iterations)\n",
    "        dev_losses.append(dev_losss/iter_2)\n",
    "        train_acc.append(acc/iterations)\n",
    "        dev_acc.append(dev_accs/iter_2)\n",
    "        print(\"Epoch: {}/{}.. \".format(e, epochs),\n",
    "              \"Training Loss: {:.3f}.. \".format(losses/iterations),\n",
    "              \"Validation Loss: {:.3f}.. \".format(dev_losss/iter_2),\n",
    "              \"Training Accuracy: {:.3f}.. \".format(acc/iterations),\n",
    "              \"Validation Accuracy: {:.3f}\".format(dev_accs/iter_2))"
   ]
  },
  {
   "cell_type": "code",
   "execution_count": 12,
   "id": "c87ee58a",
   "metadata": {},
   "outputs": [
    {
     "data": {
      "image/png": "[encoded data removed]",
      "text/plain": [
       "<Figure size 640x480 with 1 Axes>"
      ]
     },
     "metadata": {},
     "output_type": "display_data"
    }
   ],
   "source": [
    "# plot loss\n",
    "plt.plot(x_axis,train_losses, label='Training loss')\n",
    "plt.plot(x_axis, dev_losses, label='Validation loss')\n",
    "plt.legend(frameon=False)\n",
    "plt.show()"
   ]
  },
  {
   "cell_type": "code",
   "execution_count": 13,
   "id": "23567503",
   "metadata": {},
   "outputs": [
    {
     "data": {
      "image/png": "[encoded data removed]",
      "text/plain": [
       "<Figure size 640x480 with 1 Axes>"
      ]
     },
     "metadata": {},
     "output_type": "display_data"
    }
   ],
   "source": [
    "# plot accuracy\n",
    "plt.plot(x_axis, train_acc, label=\"Training accuracy\")\n",
    "plt.plot(x_axis, dev_acc, label=\"Validation accuracy\")\n",
    "plt.legend(frameon=False)\n",
    "plt.show()"
   ]
  },
  {
   "cell_type": "code",
   "execution_count": 14,
   "id": "9b2eaacf",
   "metadata": {},
   "outputs": [
    {
     "name": "stdout",
     "output_type": "stream",
     "text": [
      "0.7675000000000002\n"
     ]
    }
   ],
   "source": [
    "## Checking model's accuracy on the testing set\n",
    "model.eval()\n",
    "iter_3 = 0\n",
    "acc_test = 0\n",
    "for data_test, target_test in test_loader:\n",
    "    iter_3 += 1\n",
    "    test_pred = model(data_test)\n",
    "    test_pred = torch.exp(test_pred)\n",
    "    top_p, top_class_test = test_pred.topk(1, dim=1)\n",
    "    acc_test += accuracy_score(target_test, top_class_test)\n",
    "print(acc_test/iter_3)"
   ]
  }
 ],
 "metadata": {
  "kernelspec": {
   "display_name": "Python 3 (ipykernel)",
   "language": "python",
   "name": "python3"
  },
  "language_info": {
   "codemirror_mode": {
    "name": "ipython",
    "version": 3
   },
   "file_extension": ".py",
   "mimetype": "text/x-python",
   "name": "python",
   "nbconvert_exporter": "python",
   "pygments_lexer": "ipython3",
   "version": "3.11.3"
  }
 },
 "nbformat": 4,
 "nbformat_minor": 5
}
