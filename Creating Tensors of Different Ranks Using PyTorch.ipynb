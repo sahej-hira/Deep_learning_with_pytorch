{
 "cells": [
  {
   "cell_type": "code",
   "execution_count": 1,
   "id": "0629689a",
   "metadata": {},
   "outputs": [],
   "source": [
    "import torch"
   ]
  },
  {
   "cell_type": "code",
   "execution_count": 8,
   "id": "a69adc46",
   "metadata": {},
   "outputs": [],
   "source": [
    "# creating tensors\n",
    "\n",
    "# rank 1\n",
    "tensor_1 = torch.tensor([0.1,1,0.9,0.7,0.3])\n",
    "\n",
    "# rank 2\n",
    "tensor_2 = torch.tensor([[0,0.2,0.4,0.6],[1,0.8,0.6,0.4]])\n",
    "\n",
    "# rank 3\n",
    "tensor_3 = torch.tensor([[[0.3,0.6],[1,0]],  \n",
    "[[0.3,0.6],[0,1]]])"
   ]
  },
  {
   "cell_type": "code",
   "execution_count": 6,
   "id": "92c0f249",
   "metadata": {},
   "outputs": [],
   "source": [
    "# for GPU enabled machine\n",
    "\n",
    "# tensor_1 = torch.cuda.tensor([0.1,1,0.9,0.7,0.3])\n",
    "# tensor_2 = torch.cuda.tensor([[0,0.2,0.4,0.6],[1,0.8,0.6,0.4]])\n",
    "# tensor_3 = torch.cuda.tensor([[[0.3,0.6],[1,0]],[[0.3,0.6],[0,1]]])"
   ]
  },
  {
   "cell_type": "code",
   "execution_count": 9,
   "id": "ec7d32d5",
   "metadata": {},
   "outputs": [
    {
     "name": "stdout",
     "output_type": "stream",
     "text": [
      "torch.Size([5])\n",
      "torch.Size([2, 4])\n",
      "torch.Size([2, 2, 2])\n"
     ]
    }
   ],
   "source": [
    "# shape of tensor:\n",
    "print(tensor_1.shape)\n",
    "print(tensor_2.shape)\n",
    "print(tensor_3.shape)"
   ]
  },
  {
   "cell_type": "code",
   "execution_count": 11,
   "id": "17ba5d24",
   "metadata": {},
   "outputs": [
    {
     "name": "stdout",
     "output_type": "stream",
     "text": [
      "tensor(85., grad_fn=<SumBackward0>)\n"
     ]
    }
   ],
   "source": [
    "# computing gradient :\n",
    "\n",
    "a = torch.tensor([5.0, 3.0], requires_grad=True)\n",
    "b = torch.tensor([1.0, 4.0])\n",
    "ab = ((a + b) ** 2).sum()\n",
    "ab.backward()\n",
    "print(ab)"
   ]
  },
  {
   "cell_type": "code",
   "execution_count": null,
   "id": "fc309d00",
   "metadata": {},
   "outputs": [],
   "source": []
  },
  {
   "cell_type": "code",
   "execution_count": null,
   "id": "21133942",
   "metadata": {},
   "outputs": [],
   "source": []
  }
 ],
 "metadata": {
  "kernelspec": {
   "display_name": "Python 3 (ipykernel)",
   "language": "python",
   "name": "python3"
  },
  "language_info": {
   "codemirror_mode": {
    "name": "ipython",
    "version": 3
   },
   "file_extension": ".py",
   "mimetype": "text/x-python",
   "name": "python",
   "nbconvert_exporter": "python",
   "pygments_lexer": "ipython3",
   "version": "3.11.3"
  }
 },
 "nbformat": 4,
 "nbformat_minor": 5
}
