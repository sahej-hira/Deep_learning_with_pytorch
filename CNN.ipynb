{
 "cells": [
  {
   "cell_type": "code",
   "execution_count": 1,
   "id": "d782b7d6",
   "metadata": {},
   "outputs": [
    {
     "name": "stdout",
     "output_type": "stream",
     "text": [
      "After first convolutional layer: torch.Size([1, 16, 256, 256])\n",
      "After first pooling layer: torch.Size([1, 16, 128, 128])\n",
      "After second convolutional layer: torch.Size([1, 8, 128, 128])\n",
      "After second pooling layer: torch.Size([1, 8, 64, 64])\n"
     ]
    }
   ],
   "source": [
    "import torch\n",
    "import torch.nn as nn\n",
    "\n",
    "# Define the input image size\n",
    "input_image = torch.randn(1, 3, 256, 256)  # Batch size of 1, 3 channels, 256x256 image\n",
    "\n",
    "# Define the layers\n",
    "conv1 = nn.Conv2d(in_channels=3, out_channels=16, kernel_size=3, stride=1, padding=1)\n",
    "pool1 = nn.MaxPool2d(kernel_size=2, stride=2)\n",
    "conv2 = nn.Conv2d(in_channels=16, out_channels=8, kernel_size=7, stride=1, padding=3)\n",
    "pool2 = nn.MaxPool2d(kernel_size=2, stride=2)\n",
    "\n",
    "# Pass the input through the layers\n",
    "x = conv1(input_image)\n",
    "print(f'After first convolutional layer: {x.shape}')\n",
    "\n",
    "x = pool1(x)\n",
    "print(f'After first pooling layer: {x.shape}')\n",
    "\n",
    "x = conv2(x)\n",
    "print(f'After second convolutional layer: {x.shape}')\n",
    "\n",
    "x = pool2(x)\n",
    "print(f'After second pooling layer: {x.shape}')\n"
   ]
  },
  {
   "cell_type": "code",
   "execution_count": null,
   "id": "d90a5500",
   "metadata": {},
   "outputs": [],
   "source": []
  }
 ],
 "metadata": {
  "kernelspec": {
   "display_name": "Python 3 (ipykernel)",
   "language": "python",
   "name": "python3"
  },
  "language_info": {
   "codemirror_mode": {
    "name": "ipython",
    "version": 3
   },
   "file_extension": ".py",
   "mimetype": "text/x-python",
   "name": "python",
   "nbconvert_exporter": "python",
   "pygments_lexer": "ipython3",
   "version": "3.11.3"
  }
 },
 "nbformat": 4,
 "nbformat_minor": 5
}
